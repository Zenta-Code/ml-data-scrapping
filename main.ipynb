{
 "cells": [
  {
   "cell_type": "markdown",
   "metadata": {},
   "source": [
    "# **ML**\n",
    "- [x] Mercury\n",
    "- [] HTML Scrapping"
   ]
  },
  {
   "cell_type": "markdown",
   "metadata": {},
   "source": [
    "# **KAGGLE API**"
   ]
  },
  {
   "cell_type": "code",
   "execution_count": 5,
   "metadata": {},
   "outputs": [
    {
     "name": "stdout",
     "output_type": "stream",
     "text": [
      "Requirement already satisfied: python-dotenv in /opt/conda/lib/python3.11/site-packages (1.0.0)\n",
      "Requirement already satisfied: kaggle in /opt/conda/lib/python3.11/site-packages (1.5.16)\n",
      "Requirement already satisfied: six>=1.10 in /opt/conda/lib/python3.11/site-packages (from kaggle) (1.16.0)\n",
      "Requirement already satisfied: certifi in /opt/conda/lib/python3.11/site-packages (from kaggle) (2023.7.22)\n",
      "Requirement already satisfied: python-dateutil in /opt/conda/lib/python3.11/site-packages (from kaggle) (2.8.2)\n",
      "Requirement already satisfied: requests in /opt/conda/lib/python3.11/site-packages (from kaggle) (2.31.0)\n",
      "Requirement already satisfied: tqdm in /opt/conda/lib/python3.11/site-packages (from kaggle) (4.65.0)\n",
      "Requirement already satisfied: python-slugify in /opt/conda/lib/python3.11/site-packages (from kaggle) (5.0.2)\n",
      "Requirement already satisfied: urllib3 in /opt/conda/lib/python3.11/site-packages (from kaggle) (1.26.16)\n",
      "Requirement already satisfied: bleach in /opt/conda/lib/python3.11/site-packages (from kaggle) (4.1.0)\n",
      "Requirement already satisfied: packaging in /opt/conda/lib/python3.11/site-packages (from bleach->kaggle) (23.0)\n",
      "Requirement already satisfied: webencodings in /opt/conda/lib/python3.11/site-packages (from bleach->kaggle) (0.5.1)\n",
      "Requirement already satisfied: text-unidecode>=1.3 in /opt/conda/lib/python3.11/site-packages (from python-slugify->kaggle) (1.3)\n",
      "Requirement already satisfied: charset-normalizer<4,>=2 in /opt/conda/lib/python3.11/site-packages (from requests->kaggle) (2.0.4)\n",
      "Requirement already satisfied: idna<4,>=2.5 in /opt/conda/lib/python3.11/site-packages (from requests->kaggle) (3.4)\n"
     ]
    }
   ],
   "source": [
    "!pip install python-dotenv\n",
    "!pip install kaggle"
   ]
  },
  {
   "cell_type": "code",
   "execution_count": 6,
   "metadata": {},
   "outputs": [
    {
     "data": {
      "text/plain": [
       "True"
      ]
     },
     "execution_count": 6,
     "metadata": {},
     "output_type": "execute_result"
    }
   ],
   "source": [
    "from dotenv import load_dotenv\n",
    "import os\n",
    "\n",
    "load_dotenv()"
   ]
  },
  {
   "cell_type": "code",
   "execution_count": 10,
   "metadata": {},
   "outputs": [
    {
     "name": "stdout",
     "output_type": "stream",
     "text": [
      "rahmathidayatullah\n",
      "3a2ba65738ffe278bdbd31ca1d5660bb\n"
     ]
    }
   ],
   "source": [
    "username = os.getenv('KAGGLE_USERNAME')\n",
    "key = os.getenv('KAGGLE_KEY')\n",
    "print(username)\n",
    "print(key)"
   ]
  },
  {
   "cell_type": "code",
   "execution_count": 12,
   "metadata": {},
   "outputs": [
    {
     "name": "stdout",
     "output_type": "stream",
     "text": [
      "usage: kaggle [-h] [-v]\n",
      "              {competitions,c,datasets,d,kernels,k,models,m,files,f,config}\n",
      "              ...\n",
      "kaggle: error: unrecognized arguments: –s “goal leagues”\n"
     ]
    }
   ],
   "source": [
    "import kaggle "
   ]
  },
  {
   "cell_type": "code",
   "execution_count": 13,
   "metadata": {},
   "outputs": [
    {
     "name": "stdout",
     "output_type": "stream",
     "text": [
      "Downloading goal-dataset-top-5-european-leagues.zip to /workspaces/anaconda-2\n",
      "100%|█████████████████████████████████████████| 174k/174k [00:00<00:00, 394kB/s]\n",
      "100%|█████████████████████████████████████████| 174k/174k [00:00<00:00, 394kB/s]\n"
     ]
    }
   ],
   "source": [
    "!kaggle datasets download shreyanshkhandelwal/goal-dataset-top-5-european-leagues"
   ]
  },
  {
   "cell_type": "code",
   "execution_count": 17,
   "metadata": {},
   "outputs": [],
   "source": [
    "# create dir data if not exists\n",
    "if(not os.path.exists('data')):\n",
    "    os.mkdir('data')\n",
    "if (not os.path.exists('data/api')):\n",
    "    os.mkdir('data/api')"
   ]
  },
  {
   "cell_type": "code",
   "execution_count": 18,
   "metadata": {},
   "outputs": [
    {
     "name": "stdout",
     "output_type": "stream",
     "text": [
      "Archive:  goal-dataset-top-5-european-leagues.zip\n",
      "  inflating: data/api/Bundesliga-goalScorer(20-21).csv  \n",
      "  inflating: data/api/LaLiga-goalScorer(20-21).csv  \n",
      "  inflating: data/api/Ligue_1-goalScorer(20-21).csv  \n",
      "  inflating: data/api/Serie_A-goalScorer(20-21).csv  \n",
      "  inflating: data/api/epl-goalScorer(20-21).csv  \n"
     ]
    }
   ],
   "source": [
    "!unzip goal-dataset-top-5-european-leagues.zip -d data/api"
   ]
  },
  {
   "cell_type": "markdown",
   "metadata": {},
   "source": [
    "# **HTML SCRAPPING** "
   ]
  },
  {
   "cell_type": "code",
   "execution_count": null,
   "metadata": {},
   "outputs": [],
   "source": []
  }
 ],
 "metadata": {
  "kernelspec": {
   "display_name": "base",
   "language": "python",
   "name": "python3"
  },
  "language_info": {
   "codemirror_mode": {
    "name": "ipython",
    "version": 3
   },
   "file_extension": ".py",
   "mimetype": "text/x-python",
   "name": "python",
   "nbconvert_exporter": "python",
   "pygments_lexer": "ipython3",
   "version": "3.11.3"
  },
  "orig_nbformat": 4
 },
 "nbformat": 4,
 "nbformat_minor": 2
}
